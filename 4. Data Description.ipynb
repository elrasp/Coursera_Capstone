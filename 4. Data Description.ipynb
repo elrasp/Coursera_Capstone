{
 "cells": [
  {
   "cell_type": "code",
   "execution_count": 1,
   "metadata": {},
   "outputs": [
    {
     "name": "stdout",
     "output_type": "stream",
     "text": [
      "Libraries imported.\n"
     ]
    }
   ],
   "source": [
    "\n",
    "import numpy as np # library to handle data in a vectorized manner\n",
    "\n",
    "import pandas as pd # library for data analsysis\n",
    "pd.set_option('display.max_columns', None)\n",
    "pd.set_option('display.max_rows', None)\n",
    "\n",
    "print('Libraries imported.')"
   ]
  },
  {
   "cell_type": "code",
   "execution_count": 2,
   "metadata": {},
   "outputs": [],
   "source": [
    "sf_geospatial_data_zip = pd.read_pickle(\"data/sf_geospatial_data_zip.pkl\")\n",
    "sf_geospatial_data = pd.read_pickle(\"data/sf_geospatial_data.pkl\")\n",
    "categories = pd.read_pickle(\"data/categories.pkl\")\n",
    "venues = pd.read_pickle(\"data/venues.pkl\")\n"
   ]
  },
  {
   "cell_type": "code",
   "execution_count": 3,
   "metadata": {},
   "outputs": [
    {
     "name": "stdout",
     "output_type": "stream",
     "text": [
      "No. of Neighbouhoods: 116\n",
      "No. of Postal Codes: 27\n",
      "No. of Categories: 937\n",
      "No. of Venues: 5549\n"
     ]
    }
   ],
   "source": [
    "print(\"No. of Neighbouhoods: {}\".format(sf_geospatial_data.shape[0]))\n",
    "print(\"No. of Postal Codes: {}\".format(sf_geospatial_data_zip.shape[0]))\n",
    "print(\"No. of Categories: {}\".format(categories.shape[0]))\n",
    "print(\"No. of Venues: {}\".format(venues.shape[0]))"
   ]
  },
  {
   "cell_type": "markdown",
   "metadata": {},
   "source": [
    "#### Neighbourhoods in San Francisco"
   ]
  },
  {
   "cell_type": "code",
   "execution_count": 468,
   "metadata": {},
   "outputs": [
    {
     "name": "stdout",
     "output_type": "stream",
     "text": [
      "<class 'pandas.core.frame.DataFrame'>\n",
      "Int64Index: 116 entries, 0 to 116\n",
      "Data columns (total 3 columns):\n",
      "Neighbourhood    116 non-null object\n",
      "latitude         116 non-null float64\n",
      "longitude        116 non-null float64\n",
      "dtypes: float64(2), object(1)\n",
      "memory usage: 3.6+ KB\n"
     ]
    }
   ],
   "source": [
    "sf_geospatial_data.info()"
   ]
  },
  {
   "cell_type": "code",
   "execution_count": 469,
   "metadata": {},
   "outputs": [
    {
     "data": {
      "text/html": [
       "<div>\n",
       "<style>\n",
       "    .dataframe thead tr:only-child th {\n",
       "        text-align: right;\n",
       "    }\n",
       "\n",
       "    .dataframe thead th {\n",
       "        text-align: left;\n",
       "    }\n",
       "\n",
       "    .dataframe tbody tr th {\n",
       "        vertical-align: top;\n",
       "    }\n",
       "</style>\n",
       "<table border=\"1\" class=\"dataframe\">\n",
       "  <thead>\n",
       "    <tr style=\"text-align: right;\">\n",
       "      <th></th>\n",
       "      <th>Neighbourhood</th>\n",
       "      <th>latitude</th>\n",
       "      <th>longitude</th>\n",
       "    </tr>\n",
       "  </thead>\n",
       "  <tbody>\n",
       "    <tr>\n",
       "      <th>0</th>\n",
       "      <td>Seacliff</td>\n",
       "      <td>37.785941</td>\n",
       "      <td>-122.490700</td>\n",
       "    </tr>\n",
       "    <tr>\n",
       "      <th>1</th>\n",
       "      <td>Lake Street</td>\n",
       "      <td>37.786197</td>\n",
       "      <td>-122.475521</td>\n",
       "    </tr>\n",
       "    <tr>\n",
       "      <th>2</th>\n",
       "      <td>Presidio National Park</td>\n",
       "      <td>37.807044</td>\n",
       "      <td>-122.472101</td>\n",
       "    </tr>\n",
       "    <tr>\n",
       "      <th>3</th>\n",
       "      <td>Presidio Terrace</td>\n",
       "      <td>37.788263</td>\n",
       "      <td>-122.460805</td>\n",
       "    </tr>\n",
       "    <tr>\n",
       "      <th>4</th>\n",
       "      <td>Inner Richmond</td>\n",
       "      <td>37.779870</td>\n",
       "      <td>-122.464746</td>\n",
       "    </tr>\n",
       "  </tbody>\n",
       "</table>\n",
       "</div>"
      ],
      "text/plain": [
       "            Neighbourhood   latitude   longitude\n",
       "0                Seacliff  37.785941 -122.490700\n",
       "1             Lake Street  37.786197 -122.475521\n",
       "2  Presidio National Park  37.807044 -122.472101\n",
       "3        Presidio Terrace  37.788263 -122.460805\n",
       "4          Inner Richmond  37.779870 -122.464746"
      ]
     },
     "execution_count": 469,
     "metadata": {},
     "output_type": "execute_result"
    }
   ],
   "source": [
    "sf_geospatial_data.head()"
   ]
  },
  {
   "cell_type": "markdown",
   "metadata": {},
   "source": [
    "#### Postal Codes of San Francisco"
   ]
  },
  {
   "cell_type": "code",
   "execution_count": 470,
   "metadata": {},
   "outputs": [
    {
     "name": "stdout",
     "output_type": "stream",
     "text": [
      "<class 'pandas.core.frame.DataFrame'>\n",
      "RangeIndex: 27 entries, 0 to 26\n",
      "Data columns (total 3 columns):\n",
      "postal_code    27 non-null object\n",
      "latitude       27 non-null float64\n",
      "longitude      27 non-null float64\n",
      "dtypes: float64(2), object(1)\n",
      "memory usage: 728.0+ bytes\n"
     ]
    }
   ],
   "source": [
    "sf_geospatial_data_zip.info()"
   ]
  },
  {
   "cell_type": "code",
   "execution_count": 471,
   "metadata": {},
   "outputs": [
    {
     "data": {
      "text/html": [
       "<div>\n",
       "<style>\n",
       "    .dataframe thead tr:only-child th {\n",
       "        text-align: right;\n",
       "    }\n",
       "\n",
       "    .dataframe thead th {\n",
       "        text-align: left;\n",
       "    }\n",
       "\n",
       "    .dataframe tbody tr th {\n",
       "        vertical-align: top;\n",
       "    }\n",
       "</style>\n",
       "<table border=\"1\" class=\"dataframe\">\n",
       "  <thead>\n",
       "    <tr style=\"text-align: right;\">\n",
       "      <th></th>\n",
       "      <th>postal_code</th>\n",
       "      <th>latitude</th>\n",
       "      <th>longitude</th>\n",
       "    </tr>\n",
       "  </thead>\n",
       "  <tbody>\n",
       "    <tr>\n",
       "      <th>0</th>\n",
       "      <td>94124</td>\n",
       "      <td>37.730417</td>\n",
       "      <td>-122.384425</td>\n",
       "    </tr>\n",
       "    <tr>\n",
       "      <th>1</th>\n",
       "      <td>94127</td>\n",
       "      <td>37.734646</td>\n",
       "      <td>-122.463708</td>\n",
       "    </tr>\n",
       "    <tr>\n",
       "      <th>2</th>\n",
       "      <td>94131</td>\n",
       "      <td>37.740104</td>\n",
       "      <td>-122.438231</td>\n",
       "    </tr>\n",
       "    <tr>\n",
       "      <th>3</th>\n",
       "      <td>94133</td>\n",
       "      <td>37.805989</td>\n",
       "      <td>-122.409915</td>\n",
       "    </tr>\n",
       "    <tr>\n",
       "      <th>4</th>\n",
       "      <td>94132</td>\n",
       "      <td>37.718140</td>\n",
       "      <td>-122.486349</td>\n",
       "    </tr>\n",
       "  </tbody>\n",
       "</table>\n",
       "</div>"
      ],
      "text/plain": [
       "  postal_code   latitude   longitude\n",
       "0       94124  37.730417 -122.384425\n",
       "1       94127  37.734646 -122.463708\n",
       "2       94131  37.740104 -122.438231\n",
       "3       94133  37.805989 -122.409915\n",
       "4       94132  37.718140 -122.486349"
      ]
     },
     "execution_count": 471,
     "metadata": {},
     "output_type": "execute_result"
    }
   ],
   "source": [
    "sf_geospatial_data_zip.head()"
   ]
  },
  {
   "cell_type": "markdown",
   "metadata": {},
   "source": [
    "#### List of Categories from the Foursquare API"
   ]
  },
  {
   "cell_type": "code",
   "execution_count": 472,
   "metadata": {},
   "outputs": [
    {
     "name": "stdout",
     "output_type": "stream",
     "text": [
      "<class 'pandas.core.frame.DataFrame'>\n",
      "Index: 937 entries, 4d4b7104d754a06370d81259 to 52f2ab2ebcbc57f1066b8b4a\n",
      "Data columns (total 3 columns):\n",
      "name         937 non-null object\n",
      "icon         937 non-null object\n",
      "parent_id    927 non-null object\n",
      "dtypes: object(3)\n",
      "memory usage: 29.3+ KB\n"
     ]
    }
   ],
   "source": [
    "categories.info()"
   ]
  },
  {
   "cell_type": "code",
   "execution_count": 473,
   "metadata": {},
   "outputs": [
    {
     "data": {
      "text/html": [
       "<div>\n",
       "<style>\n",
       "    .dataframe thead tr:only-child th {\n",
       "        text-align: right;\n",
       "    }\n",
       "\n",
       "    .dataframe thead th {\n",
       "        text-align: left;\n",
       "    }\n",
       "\n",
       "    .dataframe tbody tr th {\n",
       "        vertical-align: top;\n",
       "    }\n",
       "</style>\n",
       "<table border=\"1\" class=\"dataframe\">\n",
       "  <thead>\n",
       "    <tr style=\"text-align: right;\">\n",
       "      <th></th>\n",
       "      <th>name</th>\n",
       "      <th>icon</th>\n",
       "      <th>parent_id</th>\n",
       "    </tr>\n",
       "  </thead>\n",
       "  <tbody>\n",
       "    <tr>\n",
       "      <th>4d4b7104d754a06370d81259</th>\n",
       "      <td>Arts &amp; Entertainment</td>\n",
       "      <td>https://ss3.4sqi.net/img/categories_v2/arts_en...</td>\n",
       "      <td>NaN</td>\n",
       "    </tr>\n",
       "    <tr>\n",
       "      <th>56aa371be4b08b9a8d5734db</th>\n",
       "      <td>Amphitheater</td>\n",
       "      <td>https://ss3.4sqi.net/img/categories_v2/arts_en...</td>\n",
       "      <td>4d4b7104d754a06370d81259</td>\n",
       "    </tr>\n",
       "    <tr>\n",
       "      <th>4fceea171983d5d06c3e9823</th>\n",
       "      <td>Aquarium</td>\n",
       "      <td>https://ss3.4sqi.net/img/categories_v2/arts_en...</td>\n",
       "      <td>4d4b7104d754a06370d81259</td>\n",
       "    </tr>\n",
       "    <tr>\n",
       "      <th>4bf58dd8d48988d1e1931735</th>\n",
       "      <td>Arcade</td>\n",
       "      <td>https://ss3.4sqi.net/img/categories_v2/arts_en...</td>\n",
       "      <td>4d4b7104d754a06370d81259</td>\n",
       "    </tr>\n",
       "    <tr>\n",
       "      <th>4bf58dd8d48988d1e2931735</th>\n",
       "      <td>Art Gallery</td>\n",
       "      <td>https://ss3.4sqi.net/img/categories_v2/arts_en...</td>\n",
       "      <td>4d4b7104d754a06370d81259</td>\n",
       "    </tr>\n",
       "  </tbody>\n",
       "</table>\n",
       "</div>"
      ],
      "text/plain": [
       "                                          name  \\\n",
       "4d4b7104d754a06370d81259  Arts & Entertainment   \n",
       "56aa371be4b08b9a8d5734db          Amphitheater   \n",
       "4fceea171983d5d06c3e9823              Aquarium   \n",
       "4bf58dd8d48988d1e1931735                Arcade   \n",
       "4bf58dd8d48988d1e2931735           Art Gallery   \n",
       "\n",
       "                                                                       icon  \\\n",
       "4d4b7104d754a06370d81259  https://ss3.4sqi.net/img/categories_v2/arts_en...   \n",
       "56aa371be4b08b9a8d5734db  https://ss3.4sqi.net/img/categories_v2/arts_en...   \n",
       "4fceea171983d5d06c3e9823  https://ss3.4sqi.net/img/categories_v2/arts_en...   \n",
       "4bf58dd8d48988d1e1931735  https://ss3.4sqi.net/img/categories_v2/arts_en...   \n",
       "4bf58dd8d48988d1e2931735  https://ss3.4sqi.net/img/categories_v2/arts_en...   \n",
       "\n",
       "                                         parent_id  \n",
       "4d4b7104d754a06370d81259                       NaN  \n",
       "56aa371be4b08b9a8d5734db  4d4b7104d754a06370d81259  \n",
       "4fceea171983d5d06c3e9823  4d4b7104d754a06370d81259  \n",
       "4bf58dd8d48988d1e1931735  4d4b7104d754a06370d81259  \n",
       "4bf58dd8d48988d1e2931735  4d4b7104d754a06370d81259  "
      ]
     },
     "execution_count": 473,
     "metadata": {},
     "output_type": "execute_result"
    }
   ],
   "source": [
    "categories.head()"
   ]
  },
  {
   "cell_type": "markdown",
   "metadata": {},
   "source": [
    "#### Venues explored using the Foursquare API"
   ]
  },
  {
   "cell_type": "code",
   "execution_count": 475,
   "metadata": {},
   "outputs": [
    {
     "name": "stdout",
     "output_type": "stream",
     "text": [
      "<class 'pandas.core.frame.DataFrame'>\n",
      "Index: 5549 entries, 4f3709abe4b0aa62a1d35520 to 528c2945498ed98d2451a535\n",
      "Data columns (total 10 columns):\n",
      "address         5263 non-null object\n",
      "category        5549 non-null object\n",
      "city            5536 non-null object\n",
      "country         5549 non-null object\n",
      "cross_street    4107 non-null object\n",
      "lat             5549 non-null float64\n",
      "lng             5549 non-null float64\n",
      "name            5549 non-null object\n",
      "postal_code     5266 non-null object\n",
      "state           5549 non-null object\n",
      "dtypes: float64(2), object(8)\n",
      "memory usage: 476.9+ KB\n"
     ]
    }
   ],
   "source": [
    "venues.info()"
   ]
  },
  {
   "cell_type": "code",
   "execution_count": 476,
   "metadata": {},
   "outputs": [
    {
     "data": {
      "text/html": [
       "<div>\n",
       "<style>\n",
       "    .dataframe thead tr:only-child th {\n",
       "        text-align: right;\n",
       "    }\n",
       "\n",
       "    .dataframe thead th {\n",
       "        text-align: left;\n",
       "    }\n",
       "\n",
       "    .dataframe tbody tr th {\n",
       "        vertical-align: top;\n",
       "    }\n",
       "</style>\n",
       "<table border=\"1\" class=\"dataframe\">\n",
       "  <thead>\n",
       "    <tr style=\"text-align: right;\">\n",
       "      <th></th>\n",
       "      <th>address</th>\n",
       "      <th>category</th>\n",
       "      <th>city</th>\n",
       "      <th>country</th>\n",
       "      <th>cross_street</th>\n",
       "      <th>lat</th>\n",
       "      <th>lng</th>\n",
       "      <th>name</th>\n",
       "      <th>postal_code</th>\n",
       "      <th>state</th>\n",
       "    </tr>\n",
       "    <tr>\n",
       "      <th>venue_id</th>\n",
       "      <th></th>\n",
       "      <th></th>\n",
       "      <th></th>\n",
       "      <th></th>\n",
       "      <th></th>\n",
       "      <th></th>\n",
       "      <th></th>\n",
       "      <th></th>\n",
       "      <th></th>\n",
       "      <th></th>\n",
       "    </tr>\n",
       "  </thead>\n",
       "  <tbody>\n",
       "    <tr>\n",
       "      <th>4f3709abe4b0aa62a1d35520</th>\n",
       "      <td>748 Innes Ave</td>\n",
       "      <td>4bf58dd8d48988d1ed941735</td>\n",
       "      <td>San Francisco</td>\n",
       "      <td>United States</td>\n",
       "      <td>NaN</td>\n",
       "      <td>37.730525</td>\n",
       "      <td>-122.372998</td>\n",
       "      <td>Archimedes Banya</td>\n",
       "      <td>94124</td>\n",
       "      <td>CA</td>\n",
       "    </tr>\n",
       "    <tr>\n",
       "      <th>49d3e08bf964a5201f5c1fe3</th>\n",
       "      <td>1634 Jerrold Ave</td>\n",
       "      <td>4bf58dd8d48988d11b951735</td>\n",
       "      <td>San Francisco</td>\n",
       "      <td>United States</td>\n",
       "      <td>NaN</td>\n",
       "      <td>37.739589</td>\n",
       "      <td>-122.390171</td>\n",
       "      <td>Flora Grubb Gardens</td>\n",
       "      <td>94124</td>\n",
       "      <td>CA</td>\n",
       "    </tr>\n",
       "    <tr>\n",
       "      <th>53058fdb498e2837542f7f8f</th>\n",
       "      <td>1439 Egbert Ave Unit c</td>\n",
       "      <td>4e0e22f5a56208c4ea9a85a0</td>\n",
       "      <td>San Francisco</td>\n",
       "      <td>United States</td>\n",
       "      <td>3rd Street</td>\n",
       "      <td>37.723004</td>\n",
       "      <td>-122.393615</td>\n",
       "      <td>Seven Stills Brewery &amp; Distillery</td>\n",
       "      <td>94124</td>\n",
       "      <td>CA</td>\n",
       "    </tr>\n",
       "    <tr>\n",
       "      <th>555e58ad498e9137bc49f191</th>\n",
       "      <td>900 Marin St</td>\n",
       "      <td>4bf58dd8d48988d1e5931735</td>\n",
       "      <td>San Francisco</td>\n",
       "      <td>United States</td>\n",
       "      <td>btwn Illinois &amp; Michigan St</td>\n",
       "      <td>37.749404</td>\n",
       "      <td>-122.386016</td>\n",
       "      <td>The Midway SF</td>\n",
       "      <td>94124</td>\n",
       "      <td>CA</td>\n",
       "    </tr>\n",
       "    <tr>\n",
       "      <th>56eb4e0a498e5769545c1843</th>\n",
       "      <td>1525 Cortland Ave</td>\n",
       "      <td>50327c8591d4c4b30a586d5d</td>\n",
       "      <td>San Francisco</td>\n",
       "      <td>United States</td>\n",
       "      <td>NaN</td>\n",
       "      <td>37.739798</td>\n",
       "      <td>-122.408986</td>\n",
       "      <td>Barebottle Brewing Company</td>\n",
       "      <td>NaN</td>\n",
       "      <td>CA</td>\n",
       "    </tr>\n",
       "  </tbody>\n",
       "</table>\n",
       "</div>"
      ],
      "text/plain": [
       "                                         address                  category  \\\n",
       "venue_id                                                                     \n",
       "4f3709abe4b0aa62a1d35520           748 Innes Ave  4bf58dd8d48988d1ed941735   \n",
       "49d3e08bf964a5201f5c1fe3        1634 Jerrold Ave  4bf58dd8d48988d11b951735   \n",
       "53058fdb498e2837542f7f8f  1439 Egbert Ave Unit c  4e0e22f5a56208c4ea9a85a0   \n",
       "555e58ad498e9137bc49f191            900 Marin St  4bf58dd8d48988d1e5931735   \n",
       "56eb4e0a498e5769545c1843       1525 Cortland Ave  50327c8591d4c4b30a586d5d   \n",
       "\n",
       "                                   city        country  \\\n",
       "venue_id                                                 \n",
       "4f3709abe4b0aa62a1d35520  San Francisco  United States   \n",
       "49d3e08bf964a5201f5c1fe3  San Francisco  United States   \n",
       "53058fdb498e2837542f7f8f  San Francisco  United States   \n",
       "555e58ad498e9137bc49f191  San Francisco  United States   \n",
       "56eb4e0a498e5769545c1843  San Francisco  United States   \n",
       "\n",
       "                                         cross_street        lat         lng  \\\n",
       "venue_id                                                                       \n",
       "4f3709abe4b0aa62a1d35520                          NaN  37.730525 -122.372998   \n",
       "49d3e08bf964a5201f5c1fe3                          NaN  37.739589 -122.390171   \n",
       "53058fdb498e2837542f7f8f                   3rd Street  37.723004 -122.393615   \n",
       "555e58ad498e9137bc49f191  btwn Illinois & Michigan St  37.749404 -122.386016   \n",
       "56eb4e0a498e5769545c1843                          NaN  37.739798 -122.408986   \n",
       "\n",
       "                                                       name postal_code state  \n",
       "venue_id                                                                       \n",
       "4f3709abe4b0aa62a1d35520                   Archimedes Banya       94124    CA  \n",
       "49d3e08bf964a5201f5c1fe3                Flora Grubb Gardens       94124    CA  \n",
       "53058fdb498e2837542f7f8f  Seven Stills Brewery & Distillery       94124    CA  \n",
       "555e58ad498e9137bc49f191                      The Midway SF       94124    CA  \n",
       "56eb4e0a498e5769545c1843         Barebottle Brewing Company         NaN    CA  "
      ]
     },
     "execution_count": 476,
     "metadata": {},
     "output_type": "execute_result"
    }
   ],
   "source": [
    "venues.head()"
   ]
  },
  {
   "cell_type": "markdown",
   "metadata": {},
   "source": [
    "#### From Venue Transitions to Activity Transitions\n",
    "*venue_id*: The curernt venue\n",
    "*next_venue_id*\n",
    "*distance*"
   ]
  },
  {
   "cell_type": "code",
   "execution_count": 4,
   "metadata": {},
   "outputs": [],
   "source": [
    "next_venues = pd.read_pickle('data/next_venues.pkl')"
   ]
  },
  {
   "cell_type": "code",
   "execution_count": 5,
   "metadata": {},
   "outputs": [
    {
     "name": "stdout",
     "output_type": "stream",
     "text": [
      "<class 'pandas.core.frame.DataFrame'>\n",
      "RangeIndex: 19494 entries, 0 to 19493\n",
      "Data columns (total 5 columns):\n",
      "venue_id               19494 non-null object\n",
      "next_venue_id          19494 non-null object\n",
      "venue_category         19494 non-null object\n",
      "next_venue_category    19494 non-null object\n",
      "distance               19494 non-null float64\n",
      "dtypes: float64(1), object(4)\n",
      "memory usage: 761.6+ KB\n"
     ]
    }
   ],
   "source": [
    "next_venues.info()"
   ]
  },
  {
   "cell_type": "code",
   "execution_count": 6,
   "metadata": {},
   "outputs": [
    {
     "data": {
      "text/html": [
       "<div>\n",
       "<style>\n",
       "    .dataframe thead tr:only-child th {\n",
       "        text-align: right;\n",
       "    }\n",
       "\n",
       "    .dataframe thead th {\n",
       "        text-align: left;\n",
       "    }\n",
       "\n",
       "    .dataframe tbody tr th {\n",
       "        vertical-align: top;\n",
       "    }\n",
       "</style>\n",
       "<table border=\"1\" class=\"dataframe\">\n",
       "  <thead>\n",
       "    <tr style=\"text-align: right;\">\n",
       "      <th></th>\n",
       "      <th>venue_id</th>\n",
       "      <th>next_venue_id</th>\n",
       "      <th>venue_category</th>\n",
       "      <th>next_venue_category</th>\n",
       "      <th>distance</th>\n",
       "    </tr>\n",
       "  </thead>\n",
       "  <tbody>\n",
       "    <tr>\n",
       "      <th>0</th>\n",
       "      <td>4f3709abe4b0aa62a1d35520</td>\n",
       "      <td>43c4e03ff964a5205d2d1fe3</td>\n",
       "      <td>Spa</td>\n",
       "      <td>Brewery</td>\n",
       "      <td>1.122189</td>\n",
       "    </tr>\n",
       "    <tr>\n",
       "      <th>1</th>\n",
       "      <td>49d3e08bf964a5201f5c1fe3</td>\n",
       "      <td>46363302f964a52012461fe3</td>\n",
       "      <td>Flower Shop</td>\n",
       "      <td>Coffee Shop</td>\n",
       "      <td>0.003798</td>\n",
       "    </tr>\n",
       "    <tr>\n",
       "      <th>2</th>\n",
       "      <td>49d3e08bf964a5201f5c1fe3</td>\n",
       "      <td>4f833c3be4b0e533af027908</td>\n",
       "      <td>Flower Shop</td>\n",
       "      <td>Pizza Place</td>\n",
       "      <td>0.100066</td>\n",
       "    </tr>\n",
       "    <tr>\n",
       "      <th>3</th>\n",
       "      <td>49d3e08bf964a5201f5c1fe3</td>\n",
       "      <td>4bd4afdb29eb9c744a2892e1</td>\n",
       "      <td>Flower Shop</td>\n",
       "      <td>Garden Center</td>\n",
       "      <td>1.506962</td>\n",
       "    </tr>\n",
       "    <tr>\n",
       "      <th>4</th>\n",
       "      <td>49d3e08bf964a5201f5c1fe3</td>\n",
       "      <td>4bf313f7370e76b0c956bd4a</td>\n",
       "      <td>Flower Shop</td>\n",
       "      <td>Dessert Shop</td>\n",
       "      <td>2.038199</td>\n",
       "    </tr>\n",
       "  </tbody>\n",
       "</table>\n",
       "</div>"
      ],
      "text/plain": [
       "                   venue_id             next_venue_id venue_category  \\\n",
       "0  4f3709abe4b0aa62a1d35520  43c4e03ff964a5205d2d1fe3            Spa   \n",
       "1  49d3e08bf964a5201f5c1fe3  46363302f964a52012461fe3    Flower Shop   \n",
       "2  49d3e08bf964a5201f5c1fe3  4f833c3be4b0e533af027908    Flower Shop   \n",
       "3  49d3e08bf964a5201f5c1fe3  4bd4afdb29eb9c744a2892e1    Flower Shop   \n",
       "4  49d3e08bf964a5201f5c1fe3  4bf313f7370e76b0c956bd4a    Flower Shop   \n",
       "\n",
       "  next_venue_category  distance  \n",
       "0             Brewery  1.122189  \n",
       "1         Coffee Shop  0.003798  \n",
       "2         Pizza Place  0.100066  \n",
       "3       Garden Center  1.506962  \n",
       "4        Dessert Shop  2.038199  "
      ]
     },
     "execution_count": 6,
     "metadata": {},
     "output_type": "execute_result"
    }
   ],
   "source": [
    "next_venues.head()"
   ]
  },
  {
   "cell_type": "code",
   "execution_count": null,
   "metadata": {},
   "outputs": [],
   "source": []
  }
 ],
 "metadata": {
  "anaconda-cloud": {},
  "kernelspec": {
   "display_name": "Python [conda env:anaconda3]",
   "language": "python",
   "name": "conda-env-anaconda3-py"
  },
  "language_info": {
   "codemirror_mode": {
    "name": "ipython",
    "version": 3
   },
   "file_extension": ".py",
   "mimetype": "text/x-python",
   "name": "python",
   "nbconvert_exporter": "python",
   "pygments_lexer": "ipython3",
   "version": "3.6.3"
  }
 },
 "nbformat": 4,
 "nbformat_minor": 2
}
